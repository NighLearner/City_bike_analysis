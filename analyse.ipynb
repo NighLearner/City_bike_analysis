{
 "cells": [
  {
   "cell_type": "code",
   "execution_count": 50,
   "metadata": {},
   "outputs": [],
   "source": [
    "import pandas as pd\n",
    "import os\n",
    "import numpy as np"
   ]
  },
  {
   "cell_type": "code",
   "execution_count": 20,
   "metadata": {},
   "outputs": [],
   "source": [
    "import matplotlib.pyplot as plt\n",
    "import seaborn as sns"
   ]
  },
  {
   "cell_type": "code",
   "execution_count": 2,
   "metadata": {},
   "outputs": [],
   "source": [
    "df = pd.read_csv('12_months_city_bike.csv')"
   ]
  },
  {
   "cell_type": "code",
   "execution_count": 52,
   "metadata": {},
   "outputs": [],
   "source": [
    "df['ride_length_seconds'] = df['ride_length'].dt.total_seconds()"
   ]
  },
  {
   "cell_type": "code",
   "execution_count": 53,
   "metadata": {},
   "outputs": [
    {
     "name": "stdout",
     "output_type": "stream",
     "text": [
      "<class 'pandas.core.frame.DataFrame'>\n",
      "RangeIndex: 5699639 entries, 0 to 5699638\n",
      "Data columns (total 12 columns):\n",
      " #   Column               Dtype          \n",
      "---  ------               -----          \n",
      " 0   ride_id              object         \n",
      " 1   rideable_type        object         \n",
      " 2   started_at           object         \n",
      " 3   ended_at             object         \n",
      " 4   start_station_name   object         \n",
      " 5   start_station_id     object         \n",
      " 6   end_station_name     object         \n",
      " 7   end_station_id       object         \n",
      " 8   member_casual        object         \n",
      " 9   ride_length          timedelta64[ns]\n",
      " 10  day_of_week          int64          \n",
      " 11  ride_length_seconds  float64        \n",
      "dtypes: float64(1), int64(1), object(9), timedelta64[ns](1)\n",
      "memory usage: 521.8+ MB\n"
     ]
    }
   ],
   "source": [
    "df.info()"
   ]
  },
  {
   "cell_type": "code",
   "execution_count": 54,
   "metadata": {},
   "outputs": [
    {
     "data": {
      "text/plain": [
       "Index(['ride_id', 'rideable_type', 'started_at', 'ended_at',\n",
       "       'start_station_name', 'start_station_id', 'end_station_name',\n",
       "       'end_station_id', 'member_casual', 'ride_length', 'day_of_week',\n",
       "       'ride_length_seconds'],\n",
       "      dtype='object')"
      ]
     },
     "execution_count": 54,
     "metadata": {},
     "output_type": "execute_result"
    }
   ],
   "source": [
    "df.columns"
   ]
  },
  {
   "cell_type": "code",
   "execution_count": 55,
   "metadata": {},
   "outputs": [
    {
     "data": {
      "text/html": [
       "<div>\n",
       "<style scoped>\n",
       "    .dataframe tbody tr th:only-of-type {\n",
       "        vertical-align: middle;\n",
       "    }\n",
       "\n",
       "    .dataframe tbody tr th {\n",
       "        vertical-align: top;\n",
       "    }\n",
       "\n",
       "    .dataframe thead th {\n",
       "        text-align: right;\n",
       "    }\n",
       "</style>\n",
       "<table border=\"1\" class=\"dataframe\">\n",
       "  <thead>\n",
       "    <tr style=\"text-align: right;\">\n",
       "      <th></th>\n",
       "      <th>ride_id</th>\n",
       "      <th>rideable_type</th>\n",
       "      <th>started_at</th>\n",
       "      <th>ended_at</th>\n",
       "      <th>start_station_name</th>\n",
       "      <th>start_station_id</th>\n",
       "      <th>end_station_name</th>\n",
       "      <th>end_station_id</th>\n",
       "      <th>member_casual</th>\n",
       "      <th>ride_length</th>\n",
       "      <th>day_of_week</th>\n",
       "      <th>ride_length_seconds</th>\n",
       "    </tr>\n",
       "  </thead>\n",
       "  <tbody>\n",
       "    <tr>\n",
       "      <th>0</th>\n",
       "      <td>011C1903BF4E2E28</td>\n",
       "      <td>classic_bike</td>\n",
       "      <td>2023-09-23 00:27:50</td>\n",
       "      <td>2023-09-23 00:33:27</td>\n",
       "      <td>Halsted St &amp; Wrightwood Ave</td>\n",
       "      <td>TA1309000061</td>\n",
       "      <td>Sheffield Ave &amp; Wellington Ave</td>\n",
       "      <td>TA1307000052</td>\n",
       "      <td>member</td>\n",
       "      <td>0 days 00:05:37</td>\n",
       "      <td>1</td>\n",
       "      <td>337.0</td>\n",
       "    </tr>\n",
       "    <tr>\n",
       "      <th>1</th>\n",
       "      <td>87DB80E048A1BF9F</td>\n",
       "      <td>classic_bike</td>\n",
       "      <td>2023-09-02 09:26:43</td>\n",
       "      <td>2023-09-02 09:38:19</td>\n",
       "      <td>Clark St &amp; Drummond Pl</td>\n",
       "      <td>TA1307000142</td>\n",
       "      <td>Racine Ave &amp; Fullerton Ave</td>\n",
       "      <td>TA1306000026</td>\n",
       "      <td>member</td>\n",
       "      <td>0 days 00:11:36</td>\n",
       "      <td>1</td>\n",
       "      <td>696.0</td>\n",
       "    </tr>\n",
       "    <tr>\n",
       "      <th>2</th>\n",
       "      <td>7C2EB7AF669066E3</td>\n",
       "      <td>electric_bike</td>\n",
       "      <td>2023-09-25 18:30:11</td>\n",
       "      <td>2023-09-25 18:41:39</td>\n",
       "      <td>Financial Pl &amp; Ida B Wells Dr</td>\n",
       "      <td>SL-010</td>\n",
       "      <td>Racine Ave &amp; 15th St</td>\n",
       "      <td>13304</td>\n",
       "      <td>member</td>\n",
       "      <td>0 days 00:11:28</td>\n",
       "      <td>3</td>\n",
       "      <td>688.0</td>\n",
       "    </tr>\n",
       "    <tr>\n",
       "      <th>3</th>\n",
       "      <td>57D197B010269CE3</td>\n",
       "      <td>classic_bike</td>\n",
       "      <td>2023-09-13 15:30:49</td>\n",
       "      <td>2023-09-13 15:39:18</td>\n",
       "      <td>Clark St &amp; Drummond Pl</td>\n",
       "      <td>TA1307000142</td>\n",
       "      <td>Racine Ave &amp; Belmont Ave</td>\n",
       "      <td>TA1308000019</td>\n",
       "      <td>member</td>\n",
       "      <td>0 days 00:08:29</td>\n",
       "      <td>5</td>\n",
       "      <td>509.0</td>\n",
       "    </tr>\n",
       "    <tr>\n",
       "      <th>4</th>\n",
       "      <td>8A2CEA7C8C8074D8</td>\n",
       "      <td>classic_bike</td>\n",
       "      <td>2023-09-18 15:58:58</td>\n",
       "      <td>2023-09-18 16:05:04</td>\n",
       "      <td>Halsted St &amp; Wrightwood Ave</td>\n",
       "      <td>TA1309000061</td>\n",
       "      <td>Racine Ave &amp; Fullerton Ave</td>\n",
       "      <td>TA1306000026</td>\n",
       "      <td>member</td>\n",
       "      <td>0 days 00:06:06</td>\n",
       "      <td>3</td>\n",
       "      <td>366.0</td>\n",
       "    </tr>\n",
       "  </tbody>\n",
       "</table>\n",
       "</div>"
      ],
      "text/plain": [
       "            ride_id  rideable_type           started_at             ended_at  \\\n",
       "0  011C1903BF4E2E28   classic_bike  2023-09-23 00:27:50  2023-09-23 00:33:27   \n",
       "1  87DB80E048A1BF9F   classic_bike  2023-09-02 09:26:43  2023-09-02 09:38:19   \n",
       "2  7C2EB7AF669066E3  electric_bike  2023-09-25 18:30:11  2023-09-25 18:41:39   \n",
       "3  57D197B010269CE3   classic_bike  2023-09-13 15:30:49  2023-09-13 15:39:18   \n",
       "4  8A2CEA7C8C8074D8   classic_bike  2023-09-18 15:58:58  2023-09-18 16:05:04   \n",
       "\n",
       "              start_station_name start_station_id  \\\n",
       "0    Halsted St & Wrightwood Ave     TA1309000061   \n",
       "1         Clark St & Drummond Pl     TA1307000142   \n",
       "2  Financial Pl & Ida B Wells Dr           SL-010   \n",
       "3         Clark St & Drummond Pl     TA1307000142   \n",
       "4    Halsted St & Wrightwood Ave     TA1309000061   \n",
       "\n",
       "                 end_station_name end_station_id member_casual  \\\n",
       "0  Sheffield Ave & Wellington Ave   TA1307000052        member   \n",
       "1      Racine Ave & Fullerton Ave   TA1306000026        member   \n",
       "2            Racine Ave & 15th St          13304        member   \n",
       "3        Racine Ave & Belmont Ave   TA1308000019        member   \n",
       "4      Racine Ave & Fullerton Ave   TA1306000026        member   \n",
       "\n",
       "      ride_length  day_of_week  ride_length_seconds  \n",
       "0 0 days 00:05:37            1                337.0  \n",
       "1 0 days 00:11:36            1                696.0  \n",
       "2 0 days 00:11:28            3                688.0  \n",
       "3 0 days 00:08:29            5                509.0  \n",
       "4 0 days 00:06:06            3                366.0  "
      ]
     },
     "execution_count": 55,
     "metadata": {},
     "output_type": "execute_result"
    }
   ],
   "source": [
    "df.head()"
   ]
  },
  {
   "cell_type": "code",
   "execution_count": 56,
   "metadata": {},
   "outputs": [],
   "source": [
    "if not pd.api.types.is_timedelta64_dtype(df['ride_length']):\n",
    "    # Convert 'ride_length' to timedelta if not already\n",
    "    df['ride_length'] = pd.to_timedelta(df['ride_length'])"
   ]
  },
  {
   "cell_type": "code",
   "execution_count": 57,
   "metadata": {},
   "outputs": [],
   "source": [
    "df['ride_length_seconds'] = df['ride_length'].dt.total_seconds()"
   ]
  },
  {
   "cell_type": "code",
   "execution_count": 58,
   "metadata": {},
   "outputs": [
    {
     "data": {
      "text/plain": [
       "1052.0191526059825"
      ]
     },
     "execution_count": 58,
     "metadata": {},
     "output_type": "execute_result"
    }
   ],
   "source": [
    "mean_ride_length_seconds = df['ride_length_seconds'].mean()\n",
    "mean_ride_length_seconds"
   ]
  },
  {
   "cell_type": "code",
   "execution_count": 59,
   "metadata": {},
   "outputs": [
    {
     "data": {
      "text/plain": [
       "93596.0"
      ]
     },
     "execution_count": 59,
     "metadata": {},
     "output_type": "execute_result"
    }
   ],
   "source": [
    "max_ride_length_seconds = df['ride_length_seconds'].max()\n",
    "max_ride_length_seconds"
   ]
  },
  {
   "cell_type": "code",
   "execution_count": 60,
   "metadata": {},
   "outputs": [],
   "source": [
    "# Convert the mean and max ride lengths back to timedelta for readable format (HH:MM:SS)\n",
    "mean_ride_length = pd.to_timedelta(mean_ride_length_seconds, unit='s')\n",
    "max_ride_length = pd.to_timedelta(max_ride_length_seconds, unit='s')"
   ]
  },
  {
   "cell_type": "code",
   "execution_count": 61,
   "metadata": {},
   "outputs": [
    {
     "data": {
      "text/plain": [
       "Timedelta('0 days 00:17:32.019152606')"
      ]
     },
     "execution_count": 61,
     "metadata": {},
     "output_type": "execute_result"
    }
   ],
   "source": [
    "mean_ride_length"
   ]
  },
  {
   "cell_type": "code",
   "execution_count": 62,
   "metadata": {},
   "outputs": [
    {
     "data": {
      "text/plain": [
       "Timedelta('1 days 01:59:56')"
      ]
     },
     "execution_count": 62,
     "metadata": {},
     "output_type": "execute_result"
    }
   ],
   "source": [
    "max_ride_length"
   ]
  },
  {
   "cell_type": "code",
   "execution_count": 63,
   "metadata": {},
   "outputs": [
    {
     "data": {
      "text/plain": [
       "array(['member', 'casual'], dtype=object)"
      ]
     },
     "execution_count": 63,
     "metadata": {},
     "output_type": "execute_result"
    }
   ],
   "source": [
    "unique_member_casual = df['member_casual'].unique()\n",
    "unique_member_casual"
   ]
  },
  {
   "cell_type": "code",
   "execution_count": 64,
   "metadata": {},
   "outputs": [
    {
     "name": "stdout",
     "output_type": "stream",
     "text": [
      "day_of_week\n",
      "1    921532\n",
      "5    852793\n",
      "7    829503\n",
      "6    823344\n",
      "4    780257\n",
      "2    756637\n",
      "3    735573\n",
      "Name: count, dtype: int64\n"
     ]
    }
   ],
   "source": [
    "# Count occurrences of each unique value in the day_of_week column\n",
    "day_of_week_counts = df['day_of_week'].value_counts()\n",
    "\n",
    "# Display the counts\n",
    "print(day_of_week_counts)"
   ]
  },
  {
   "cell_type": "code",
   "execution_count": 65,
   "metadata": {},
   "outputs": [
    {
     "data": {
      "text/plain": [
       "1"
      ]
     },
     "execution_count": 65,
     "metadata": {},
     "output_type": "execute_result"
    }
   ],
   "source": [
    "mode_day_of_week = df['day_of_week'].mode()[0]\n",
    "mode_day_of_week"
   ]
  },
  {
   "cell_type": "code",
   "execution_count": 66,
   "metadata": {},
   "outputs": [],
   "source": [
    "casual_member_duration = df.pivot_table(\n",
    "    index='member_casual',             # Rows\n",
    "    values='ride_length',              # Values to aggregate\n",
    "    aggfunc='mean'                     # Function to apply (mean in this case)\n",
    ")"
   ]
  },
  {
   "cell_type": "code",
   "execution_count": 67,
   "metadata": {},
   "outputs": [
    {
     "data": {
      "text/plain": [
       "<Axes: xlabel='member_casual'>"
      ]
     },
     "execution_count": 67,
     "metadata": {},
     "output_type": "execute_result"
    },
    {
     "data": {
      "image/png": "[encoded data removed]",
      "text/plain": [
       "<Figure size 640x480 with 1 Axes>"
      ]
     },
     "metadata": {},
     "output_type": "display_data"
    }
   ],
   "source": [
    "casual_member_duration['ride_length_seconds'] = casual_member_duration['ride_length'].dt.total_seconds()\n",
    "casual_member_duration['ride_length_seconds'].plot(kind='bar')"
   ]
  },
  {
   "cell_type": "code",
   "execution_count": 68,
   "metadata": {},
   "outputs": [
    {
     "data": {
      "text/html": [
       "<div>\n",
       "<style scoped>\n",
       "    .dataframe tbody tr th:only-of-type {\n",
       "        vertical-align: middle;\n",
       "    }\n",
       "\n",
       "    .dataframe tbody tr th {\n",
       "        vertical-align: top;\n",
       "    }\n",
       "\n",
       "    .dataframe thead th {\n",
       "        text-align: right;\n",
       "    }\n",
       "</style>\n",
       "<table border=\"1\" class=\"dataframe\">\n",
       "  <thead>\n",
       "    <tr style=\"text-align: right;\">\n",
       "      <th></th>\n",
       "      <th>ride_length</th>\n",
       "      <th>ride_length_seconds</th>\n",
       "    </tr>\n",
       "    <tr>\n",
       "      <th>member_casual</th>\n",
       "      <th></th>\n",
       "      <th></th>\n",
       "    </tr>\n",
       "  </thead>\n",
       "  <tbody>\n",
       "    <tr>\n",
       "      <th>casual</th>\n",
       "      <td>0 days 00:25:44.837422961</td>\n",
       "      <td>1544.837423</td>\n",
       "    </tr>\n",
       "    <tr>\n",
       "      <th>member</th>\n",
       "      <td>0 days 00:12:56.104096206</td>\n",
       "      <td>776.104096</td>\n",
       "    </tr>\n",
       "  </tbody>\n",
       "</table>\n",
       "</div>"
      ],
      "text/plain": [
       "                            ride_length  ride_length_seconds\n",
       "member_casual                                               \n",
       "casual        0 days 00:25:44.837422961          1544.837423\n",
       "member        0 days 00:12:56.104096206           776.104096"
      ]
     },
     "execution_count": 68,
     "metadata": {},
     "output_type": "execute_result"
    }
   ],
   "source": [
    "casual_member_duration"
   ]
  },
  {
   "cell_type": "code",
   "execution_count": 69,
   "metadata": {},
   "outputs": [
    {
     "data": {
      "text/plain": [
       "Index(['ride_id', 'rideable_type', 'started_at', 'ended_at',\n",
       "       'start_station_name', 'start_station_id', 'end_station_name',\n",
       "       'end_station_id', 'member_casual', 'ride_length', 'day_of_week',\n",
       "       'ride_length_seconds'],\n",
       "      dtype='object')"
      ]
     },
     "execution_count": 69,
     "metadata": {},
     "output_type": "execute_result"
    }
   ],
   "source": [
    "df.columns"
   ]
  },
  {
   "cell_type": "code",
   "execution_count": 70,
   "metadata": {},
   "outputs": [],
   "source": [
    "day_duration = df.pivot_table(\n",
    "    index='member_casual',          # Rows\n",
    "    columns='day_of_week',         # Columns\n",
    "    values='ride_length_seconds',          # Values to aggregate\n",
    "    aggfunc='mean',                # Function to apply (mean in this case)\n",
    "    fill_value=0                   # Fill missing values with 0 (optional)\n",
    ")"
   ]
  },
  {
   "cell_type": "code",
   "execution_count": 71,
   "metadata": {},
   "outputs": [
    {
     "data": {
      "text/plain": [
       "Index([1, 2, 3, 4, 5, 6, 7], dtype='int64', name='day_of_week')"
      ]
     },
     "execution_count": 71,
     "metadata": {},
     "output_type": "execute_result"
    }
   ],
   "source": [
    "day_duration.columns"
   ]
  },
  {
   "cell_type": "code",
   "execution_count": 72,
   "metadata": {
    "vscode": {
     "languageId": "javascript"
    }
   },
   "outputs": [],
   "source": [
    "day_duration.rename(columns={\n",
    "    1: 'Sunday',\n",
    "    2: 'Monday',\n",
    "    3: 'Tuesday',\n",
    "    4: 'Wednesday',\n",
    "    5: 'Thursday',\n",
    "    6: 'Friday',\n",
    "    7: 'Saturday'\n",
    "}, inplace=True)"
   ]
  },
  {
   "cell_type": "code",
   "execution_count": 73,
   "metadata": {},
   "outputs": [
    {
     "data": {
      "text/html": [
       "<div>\n",
       "<style scoped>\n",
       "    .dataframe tbody tr th:only-of-type {\n",
       "        vertical-align: middle;\n",
       "    }\n",
       "\n",
       "    .dataframe tbody tr th {\n",
       "        vertical-align: top;\n",
       "    }\n",
       "\n",
       "    .dataframe thead th {\n",
       "        text-align: right;\n",
       "    }\n",
       "</style>\n",
       "<table border=\"1\" class=\"dataframe\">\n",
       "  <thead>\n",
       "    <tr style=\"text-align: right;\">\n",
       "      <th>day_of_week</th>\n",
       "      <th>Sunday</th>\n",
       "      <th>Monday</th>\n",
       "      <th>Tuesday</th>\n",
       "      <th>Wednesday</th>\n",
       "      <th>Thursday</th>\n",
       "      <th>Friday</th>\n",
       "      <th>Saturday</th>\n",
       "    </tr>\n",
       "    <tr>\n",
       "      <th>member_casual</th>\n",
       "      <th></th>\n",
       "      <th></th>\n",
       "      <th></th>\n",
       "      <th></th>\n",
       "      <th></th>\n",
       "      <th></th>\n",
       "      <th></th>\n",
       "    </tr>\n",
       "  </thead>\n",
       "  <tbody>\n",
       "    <tr>\n",
       "      <th>casual</th>\n",
       "      <td>1712.054336</td>\n",
       "      <td>1806.881068</td>\n",
       "      <td>1492.290140</td>\n",
       "      <td>1325.132281</td>\n",
       "      <td>1374.984029</td>\n",
       "      <td>1350.543251</td>\n",
       "      <td>1509.469228</td>\n",
       "    </tr>\n",
       "    <tr>\n",
       "      <th>member</th>\n",
       "      <td>857.626675</td>\n",
       "      <td>865.578069</td>\n",
       "      <td>741.604032</td>\n",
       "      <td>743.879043</td>\n",
       "      <td>756.058492</td>\n",
       "      <td>742.903037</td>\n",
       "      <td>757.440984</td>\n",
       "    </tr>\n",
       "  </tbody>\n",
       "</table>\n",
       "</div>"
      ],
      "text/plain": [
       "day_of_week         Sunday       Monday      Tuesday    Wednesday  \\\n",
       "member_casual                                                       \n",
       "casual         1712.054336  1806.881068  1492.290140  1325.132281   \n",
       "member          857.626675   865.578069   741.604032   743.879043   \n",
       "\n",
       "day_of_week       Thursday       Friday     Saturday  \n",
       "member_casual                                         \n",
       "casual         1374.984029  1350.543251  1509.469228  \n",
       "member          756.058492   742.903037   757.440984  "
      ]
     },
     "execution_count": 73,
     "metadata": {},
     "output_type": "execute_result"
    }
   ],
   "source": [
    "day_duration"
   ]
  },
  {
   "cell_type": "code",
   "execution_count": 74,
   "metadata": {},
   "outputs": [
    {
     "name": "stdout",
     "output_type": "stream",
     "text": [
      "<class 'pandas.core.frame.DataFrame'>\n",
      "Index: 2 entries, casual to member\n",
      "Data columns (total 7 columns):\n",
      " #   Column     Non-Null Count  Dtype  \n",
      "---  ------     --------------  -----  \n",
      " 0   Sunday     2 non-null      float64\n",
      " 1   Monday     2 non-null      float64\n",
      " 2   Tuesday    2 non-null      float64\n",
      " 3   Wednesday  2 non-null      float64\n",
      " 4   Thursday   2 non-null      float64\n",
      " 5   Friday     2 non-null      float64\n",
      " 6   Saturday   2 non-null      float64\n",
      "dtypes: float64(7)\n",
      "memory usage: 128.0+ bytes\n"
     ]
    }
   ],
   "source": [
    "day_duration.info()"
   ]
  },
  {
   "cell_type": "code",
   "execution_count": 76,
   "metadata": {},
   "outputs": [
    {
     "data": {
      "image/png": "[encoded data removed]",
      "text/plain": [
       "<Figure size 1200x600 with 1 Axes>"
      ]
     },
     "metadata": {},
     "output_type": "display_data"
    }
   ],
   "source": [
    "# Define the positions for the bars\n",
    "x = np.arange(len(day_duration.columns))  # Number of days (7 days: Sunday to Saturday)\n",
    "width = 0.35  # Width of the bars\n",
    "\n",
    "# Split the data into casual and member data\n",
    "casual_data = day_duration.loc['casual'].values\n",
    "member_data = day_duration.loc['member'].values\n",
    "\n",
    "# Set up the plot\n",
    "plt.figure(figsize=(12, 6))\n",
    "\n",
    "# Plot bars for casual riders\n",
    "plt.bar(x - width/2, casual_data, width, label='Casual', color='orange')\n",
    "\n",
    "# Plot bars for member riders\n",
    "plt.bar(x + width/2, member_data, width, label='Member', color='blue')\n",
    "\n",
    "# Add labels and title\n",
    "plt.xlabel('Day of the Week')\n",
    "plt.ylabel('Average Ride Length (minutes)')\n",
    "plt.title('Comparison of Average Ride Length Between Casual and Member Cyclists')\n",
    "plt.xticks(ticks=x, labels=day_duration.columns, rotation=0)  # Days of the week as x-axis labels\n",
    "\n",
    "# Add legend and display plot\n",
    "plt.legend()\n",
    "plt.tight_layout()\n",
    "plt.show()"
   ]
  },
  {
   "cell_type": "code",
   "execution_count": 83,
   "metadata": {},
   "outputs": [
    {
     "name": "stdout",
     "output_type": "stream",
     "text": [
      "               Casual            |        Mamber\n",
      "Sunday:    1712.0543359126602    |   857.626675447025\n",
      "Monday:    1806.8810684381915    |   865.5780686775792\n",
      "Tuesday:    1492.2901395845875    |   741.6040322827849\n",
      "Wednesady:    1325.1322812982928    |   743.8790433455608\n",
      "Thrusday:    1374.9840290214095    |   756.0584922909093\n",
      "Friday:    1350.5432507869593    |   742.9030370337314\n",
      "Saturday:    1509.4692280701754    |   757.4409838281039\n"
     ]
    }
   ],
   "source": [
    "week_days = ['Sunday','Monday','Tuesday','Wednesady','Thrusday','Friday','Saturday']\n",
    "print('               Casual            |        Mamber')\n",
    "for i in range(7):\n",
    "    print(week_days[i] + ':    ' + str(casual_data[i]) + '    |   ' + str(member_data[i]))"
   ]
  },
  {
   "cell_type": "code",
   "execution_count": 79,
   "metadata": {},
   "outputs": [
    {
     "data": {
      "text/plain": [
       "1712.0543359126602"
      ]
     },
     "execution_count": 79,
     "metadata": {},
     "output_type": "execute_result"
    }
   ],
   "source": [
    "casual_data[0]"
   ]
  },
  {
   "cell_type": "code",
   "execution_count": 84,
   "metadata": {},
   "outputs": [
    {
     "name": "stdout",
     "output_type": "stream",
     "text": [
      "<class 'pandas.core.frame.DataFrame'>\n",
      "RangeIndex: 5699639 entries, 0 to 5699638\n",
      "Data columns (total 12 columns):\n",
      " #   Column               Dtype          \n",
      "---  ------               -----          \n",
      " 0   ride_id              object         \n",
      " 1   rideable_type        object         \n",
      " 2   started_at           object         \n",
      " 3   ended_at             object         \n",
      " 4   start_station_name   object         \n",
      " 5   start_station_id     object         \n",
      " 6   end_station_name     object         \n",
      " 7   end_station_id       object         \n",
      " 8   member_casual        object         \n",
      " 9   ride_length          timedelta64[ns]\n",
      " 10  day_of_week          int64          \n",
      " 11  ride_length_seconds  float64        \n",
      "dtypes: float64(1), int64(1), object(9), timedelta64[ns](1)\n",
      "memory usage: 521.8+ MB\n"
     ]
    }
   ],
   "source": [
    "df.info()"
   ]
  },
  {
   "cell_type": "code",
   "execution_count": 86,
   "metadata": {},
   "outputs": [],
   "source": [
    "riders_by_day = df.pivot_table(\n",
    "    index='member_casual',             # Rows\n",
    "    columns='day_of_week',           # Columns\n",
    "    values='ride_id',              # Values to aggregate\n",
    "    aggfunc='count',                     # Function to apply (mean in this case)\n",
    "    fill_value=0                # Null values\n",
    ")"
   ]
  },
  {
   "cell_type": "code",
   "execution_count": 88,
   "metadata": {},
   "outputs": [
    {
     "data": {
      "text/html": [
       "<div>\n",
       "<style scoped>\n",
       "    .dataframe tbody tr th:only-of-type {\n",
       "        vertical-align: middle;\n",
       "    }\n",
       "\n",
       "    .dataframe tbody tr th {\n",
       "        vertical-align: top;\n",
       "    }\n",
       "\n",
       "    .dataframe thead th {\n",
       "        text-align: right;\n",
       "    }\n",
       "</style>\n",
       "<table border=\"1\" class=\"dataframe\">\n",
       "  <thead>\n",
       "    <tr style=\"text-align: right;\">\n",
       "      <th>day_of_week</th>\n",
       "      <th>1</th>\n",
       "      <th>2</th>\n",
       "      <th>3</th>\n",
       "      <th>4</th>\n",
       "      <th>5</th>\n",
       "      <th>6</th>\n",
       "      <th>7</th>\n",
       "    </tr>\n",
       "    <tr>\n",
       "      <th>member_casual</th>\n",
       "      <th></th>\n",
       "      <th></th>\n",
       "      <th></th>\n",
       "      <th></th>\n",
       "      <th></th>\n",
       "      <th></th>\n",
       "      <th></th>\n",
       "    </tr>\n",
       "  </thead>\n",
       "  <tbody>\n",
       "    <tr>\n",
       "      <th>casual</th>\n",
       "      <td>436548</td>\n",
       "      <td>346707</td>\n",
       "      <td>229266</td>\n",
       "      <td>221953</td>\n",
       "      <td>255122</td>\n",
       "      <td>251919</td>\n",
       "      <td>304209</td>\n",
       "    </tr>\n",
       "    <tr>\n",
       "      <th>member</th>\n",
       "      <td>484984</td>\n",
       "      <td>409930</td>\n",
       "      <td>506307</td>\n",
       "      <td>558304</td>\n",
       "      <td>597671</td>\n",
       "      <td>571425</td>\n",
       "      <td>525294</td>\n",
       "    </tr>\n",
       "  </tbody>\n",
       "</table>\n",
       "</div>"
      ],
      "text/plain": [
       "day_of_week         1       2       3       4       5       6       7\n",
       "member_casual                                                        \n",
       "casual         436548  346707  229266  221953  255122  251919  304209\n",
       "member         484984  409930  506307  558304  597671  571425  525294"
      ]
     },
     "execution_count": 88,
     "metadata": {},
     "output_type": "execute_result"
    }
   ],
   "source": [
    "riders_by_day"
   ]
  },
  {
   "cell_type": "code",
   "execution_count": 90,
   "metadata": {},
   "outputs": [
    {
     "data": {
      "image/png": "[encoded data removed]",
      "text/plain": [
       "<Figure size 1000x600 with 1 Axes>"
      ]
     },
     "metadata": {},
     "output_type": "display_data"
    }
   ],
   "source": [
    "# Reset index to make it easier for plotting\n",
    "riders_by_day = riders_by_day.reset_index()\n",
    "\n",
    "# Visualizing the pivot table using a bar chart\n",
    "riders_by_day.plot(kind='bar', x='member_casual', figsize=(10, 6), width=0.8)\n",
    "\n",
    "# Set plot labels and title\n",
    "plt.xlabel('User Type (Member or Casual)')\n",
    "plt.ylabel('Number of Rides')\n",
    "plt.title('Number of Rides by User Type and Day of the Week')\n",
    "\n",
    "# Customize x-ticks and legend\n",
    "plt.xticks(rotation=0)\n",
    "plt.legend(title='Day of Week', labels=['Sunday', 'Monday', 'Tuesday', 'Wednesday', 'Thursday', 'Friday', 'Saturday'])\n",
    "\n",
    "# Show the plot\n",
    "plt.tight_layout()\n",
    "plt.show()"
   ]
  },
  {
   "cell_type": "code",
   "execution_count": null,
   "metadata": {},
   "outputs": [],
   "source": []
  }
 ],
 "metadata": {
  "kernelspec": {
   "display_name": "Python 3",
   "language": "python",
   "name": "python3"
  },
  "language_info": {
   "codemirror_mode": {
    "name": "ipython",
    "version": 3
   },
   "file_extension": ".py",
   "mimetype": "text/x-python",
   "name": "python",
   "nbconvert_exporter": "python",
   "pygments_lexer": "ipython3",
   "version": "3.10.11"
  }
 },
 "nbformat": 4,
 "nbformat_minor": 2
}
