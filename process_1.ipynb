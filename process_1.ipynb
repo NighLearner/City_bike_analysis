{
 "cells": [
  {
   "cell_type": "code",
   "execution_count": 5,
   "metadata": {},
   "outputs": [],
   "source": [
    "import pandas as pd\n",
    "import os"
   ]
  },
  {
   "cell_type": "code",
   "execution_count": 3,
   "metadata": {},
   "outputs": [],
   "source": [
    "root = 'D:/DATA_ANALYSIS/Case_1/'"
   ]
  },
  {
   "cell_type": "code",
   "execution_count": 4,
   "metadata": {},
   "outputs": [],
   "source": [
    "files = ['202309-divvy-tripdata.csv','202310-divvy-tripdata.csv',\n",
    "         '202311-divvy-tripdata.csv','202312-divvy-tripdata.csv',\n",
    "         '202401-divvy-tripdata.csv','202402-divvy-tripdata.csv',\n",
    "         '202403-divvy-tripdata.csv','202404-divvy-tripdata.csv',\n",
    "         '202405-divvy-tripdata.csv','202406-divvy-tripdata.csv',\n",
    "         '202407-divvy-tripdata.csv','202408-divvy-tripdata.csv']"
   ]
  },
  {
   "cell_type": "code",
   "execution_count": 6,
   "metadata": {},
   "outputs": [],
   "source": [
    "# Create an empty list to store dataframes\n",
    "dfs = []\n",
    "\n",
    "# Loop through each file, read and append the dataframe to the list\n",
    "for file in files:\n",
    "    file_path = os.path.join(root, file)\n",
    "    df = pd.read_csv(file_path)\n",
    "    dfs.append(df)\n",
    "\n",
    "# Combine all dataframes into one\n",
    "combined_df = pd.concat(dfs, ignore_index=True)"
   ]
  },
  {
   "cell_type": "code",
   "execution_count": 7,
   "metadata": {},
   "outputs": [],
   "source": [
    "combined_df.to_csv('D:/DATA_ANALYSIS/Case_1/combined_data.csv', index=False)"
   ]
  },
  {
   "cell_type": "code",
   "execution_count": 8,
   "metadata": {},
   "outputs": [
    {
     "data": {
      "text/plain": [
       "(5699639, 13)"
      ]
     },
     "execution_count": 8,
     "metadata": {},
     "output_type": "execute_result"
    }
   ],
   "source": [
    "combined_df.shape"
   ]
  },
  {
   "cell_type": "code",
   "execution_count": 9,
   "metadata": {},
   "outputs": [
    {
     "data": {
      "text/plain": [
       "Index(['ride_id', 'rideable_type', 'started_at', 'ended_at',\n",
       "       'start_station_name', 'start_station_id', 'end_station_name',\n",
       "       'end_station_id', 'start_lat', 'start_lng', 'end_lat', 'end_lng',\n",
       "       'member_casual'],\n",
       "      dtype='object')"
      ]
     },
     "execution_count": 9,
     "metadata": {},
     "output_type": "execute_result"
    }
   ],
   "source": [
    "combined_df.columns"
   ]
  },
  {
   "cell_type": "code",
   "execution_count": 11,
   "metadata": {},
   "outputs": [
    {
     "name": "stdout",
     "output_type": "stream",
     "text": [
      "<class 'pandas.core.frame.DataFrame'>\n",
      "RangeIndex: 5699639 entries, 0 to 5699638\n",
      "Data columns (total 13 columns):\n",
      " #   Column              Dtype  \n",
      "---  ------              -----  \n",
      " 0   ride_id             object \n",
      " 1   rideable_type       object \n",
      " 2   started_at          object \n",
      " 3   ended_at            object \n",
      " 4   start_station_name  object \n",
      " 5   start_station_id    object \n",
      " 6   end_station_name    object \n",
      " 7   end_station_id      object \n",
      " 8   start_lat           float64\n",
      " 9   start_lng           float64\n",
      " 10  end_lat             float64\n",
      " 11  end_lng             float64\n",
      " 12  member_casual       object \n",
      "dtypes: float64(4), object(9)\n",
      "memory usage: 565.3+ MB\n"
     ]
    }
   ],
   "source": [
    "combined_df.info()"
   ]
  },
  {
   "cell_type": "code",
   "execution_count": 15,
   "metadata": {},
   "outputs": [
    {
     "data": {
      "text/plain": [
       "'2023-09-23 00:27:50'"
      ]
     },
     "execution_count": 15,
     "metadata": {},
     "output_type": "execute_result"
    }
   ],
   "source": [
    "combined_df.iloc[0]['started_at']"
   ]
  },
  {
   "cell_type": "code",
   "execution_count": 17,
   "metadata": {},
   "outputs": [
    {
     "ename": "ValueError",
     "evalue": "unconverted data remains when parsing with format \"%Y-%m-%d %H:%M:%S\": \".289\", at position 3484317. You might want to try:\n    - passing `format` if your strings have a consistent format;\n    - passing `format='ISO8601'` if your strings are all ISO8601 but not necessarily in exactly the same format;\n    - passing `format='mixed'`, and the format will be inferred for each element individually. You might want to use `dayfirst` alongside this.",
     "output_type": "error",
     "traceback": [
      "\u001b[1;31m---------------------------------------------------------------------------\u001b[0m",
      "\u001b[1;31mValueError\u001b[0m                                Traceback (most recent call last)",
      "Cell \u001b[1;32mIn[17], line 1\u001b[0m\n\u001b[1;32m----> 1\u001b[0m combined_df[\u001b[38;5;124m'\u001b[39m\u001b[38;5;124mstarted_at\u001b[39m\u001b[38;5;124m'\u001b[39m] \u001b[38;5;241m=\u001b[39m \u001b[43mpd\u001b[49m\u001b[38;5;241;43m.\u001b[39;49m\u001b[43mto_datetime\u001b[49m\u001b[43m(\u001b[49m\u001b[43mcombined_df\u001b[49m\u001b[43m[\u001b[49m\u001b[38;5;124;43m'\u001b[39;49m\u001b[38;5;124;43mstarted_at\u001b[39;49m\u001b[38;5;124;43m'\u001b[39;49m\u001b[43m]\u001b[49m\u001b[43m)\u001b[49m\n\u001b[0;32m      2\u001b[0m combined_df[\u001b[38;5;124m'\u001b[39m\u001b[38;5;124mended_at\u001b[39m\u001b[38;5;124m'\u001b[39m] \u001b[38;5;241m=\u001b[39m pd\u001b[38;5;241m.\u001b[39mto_datetime(combined_df[\u001b[38;5;124m'\u001b[39m\u001b[38;5;124mended_at\u001b[39m\u001b[38;5;124m'\u001b[39m])\n",
      "File \u001b[1;32mc:\\Users\\divya\\AppData\\Local\\Programs\\Python\\Python310\\lib\\site-packages\\pandas\\core\\tools\\datetimes.py:1067\u001b[0m, in \u001b[0;36mto_datetime\u001b[1;34m(arg, errors, dayfirst, yearfirst, utc, format, exact, unit, infer_datetime_format, origin, cache)\u001b[0m\n\u001b[0;32m   1065\u001b[0m         result \u001b[38;5;241m=\u001b[39m arg\u001b[38;5;241m.\u001b[39mmap(cache_array)\n\u001b[0;32m   1066\u001b[0m     \u001b[38;5;28;01melse\u001b[39;00m:\n\u001b[1;32m-> 1067\u001b[0m         values \u001b[38;5;241m=\u001b[39m \u001b[43mconvert_listlike\u001b[49m\u001b[43m(\u001b[49m\u001b[43marg\u001b[49m\u001b[38;5;241;43m.\u001b[39;49m\u001b[43m_values\u001b[49m\u001b[43m,\u001b[49m\u001b[43m \u001b[49m\u001b[38;5;28;43mformat\u001b[39;49m\u001b[43m)\u001b[49m\n\u001b[0;32m   1068\u001b[0m         result \u001b[38;5;241m=\u001b[39m arg\u001b[38;5;241m.\u001b[39m_constructor(values, index\u001b[38;5;241m=\u001b[39marg\u001b[38;5;241m.\u001b[39mindex, name\u001b[38;5;241m=\u001b[39marg\u001b[38;5;241m.\u001b[39mname)\n\u001b[0;32m   1069\u001b[0m \u001b[38;5;28;01melif\u001b[39;00m \u001b[38;5;28misinstance\u001b[39m(arg, (ABCDataFrame, abc\u001b[38;5;241m.\u001b[39mMutableMapping)):\n",
      "File \u001b[1;32mc:\\Users\\divya\\AppData\\Local\\Programs\\Python\\Python310\\lib\\site-packages\\pandas\\core\\tools\\datetimes.py:433\u001b[0m, in \u001b[0;36m_convert_listlike_datetimes\u001b[1;34m(arg, format, name, utc, unit, errors, dayfirst, yearfirst, exact)\u001b[0m\n\u001b[0;32m    431\u001b[0m \u001b[38;5;66;03m# `format` could be inferred, or user didn't ask for mixed-format parsing.\u001b[39;00m\n\u001b[0;32m    432\u001b[0m \u001b[38;5;28;01mif\u001b[39;00m \u001b[38;5;28mformat\u001b[39m \u001b[38;5;129;01mis\u001b[39;00m \u001b[38;5;129;01mnot\u001b[39;00m \u001b[38;5;28;01mNone\u001b[39;00m \u001b[38;5;129;01mand\u001b[39;00m \u001b[38;5;28mformat\u001b[39m \u001b[38;5;241m!=\u001b[39m \u001b[38;5;124m\"\u001b[39m\u001b[38;5;124mmixed\u001b[39m\u001b[38;5;124m\"\u001b[39m:\n\u001b[1;32m--> 433\u001b[0m     \u001b[38;5;28;01mreturn\u001b[39;00m \u001b[43m_array_strptime_with_fallback\u001b[49m\u001b[43m(\u001b[49m\u001b[43marg\u001b[49m\u001b[43m,\u001b[49m\u001b[43m \u001b[49m\u001b[43mname\u001b[49m\u001b[43m,\u001b[49m\u001b[43m \u001b[49m\u001b[43mutc\u001b[49m\u001b[43m,\u001b[49m\u001b[43m \u001b[49m\u001b[38;5;28;43mformat\u001b[39;49m\u001b[43m,\u001b[49m\u001b[43m \u001b[49m\u001b[43mexact\u001b[49m\u001b[43m,\u001b[49m\u001b[43m \u001b[49m\u001b[43merrors\u001b[49m\u001b[43m)\u001b[49m\n\u001b[0;32m    435\u001b[0m result, tz_parsed \u001b[38;5;241m=\u001b[39m objects_to_datetime64(\n\u001b[0;32m    436\u001b[0m     arg,\n\u001b[0;32m    437\u001b[0m     dayfirst\u001b[38;5;241m=\u001b[39mdayfirst,\n\u001b[1;32m   (...)\u001b[0m\n\u001b[0;32m    441\u001b[0m     allow_object\u001b[38;5;241m=\u001b[39m\u001b[38;5;28;01mTrue\u001b[39;00m,\n\u001b[0;32m    442\u001b[0m )\n\u001b[0;32m    444\u001b[0m \u001b[38;5;28;01mif\u001b[39;00m tz_parsed \u001b[38;5;129;01mis\u001b[39;00m \u001b[38;5;129;01mnot\u001b[39;00m \u001b[38;5;28;01mNone\u001b[39;00m:\n\u001b[0;32m    445\u001b[0m     \u001b[38;5;66;03m# We can take a shortcut since the datetime64 numpy array\u001b[39;00m\n\u001b[0;32m    446\u001b[0m     \u001b[38;5;66;03m# is in UTC\u001b[39;00m\n",
      "File \u001b[1;32mc:\\Users\\divya\\AppData\\Local\\Programs\\Python\\Python310\\lib\\site-packages\\pandas\\core\\tools\\datetimes.py:467\u001b[0m, in \u001b[0;36m_array_strptime_with_fallback\u001b[1;34m(arg, name, utc, fmt, exact, errors)\u001b[0m\n\u001b[0;32m    456\u001b[0m \u001b[38;5;28;01mdef\u001b[39;00m \u001b[38;5;21m_array_strptime_with_fallback\u001b[39m(\n\u001b[0;32m    457\u001b[0m     arg,\n\u001b[0;32m    458\u001b[0m     name,\n\u001b[1;32m   (...)\u001b[0m\n\u001b[0;32m    462\u001b[0m     errors: \u001b[38;5;28mstr\u001b[39m,\n\u001b[0;32m    463\u001b[0m ) \u001b[38;5;241m-\u001b[39m\u001b[38;5;241m>\u001b[39m Index:\n\u001b[0;32m    464\u001b[0m \u001b[38;5;250m    \u001b[39m\u001b[38;5;124;03m\"\"\"\u001b[39;00m\n\u001b[0;32m    465\u001b[0m \u001b[38;5;124;03m    Call array_strptime, with fallback behavior depending on 'errors'.\u001b[39;00m\n\u001b[0;32m    466\u001b[0m \u001b[38;5;124;03m    \"\"\"\u001b[39;00m\n\u001b[1;32m--> 467\u001b[0m     result, tz_out \u001b[38;5;241m=\u001b[39m \u001b[43marray_strptime\u001b[49m\u001b[43m(\u001b[49m\u001b[43marg\u001b[49m\u001b[43m,\u001b[49m\u001b[43m \u001b[49m\u001b[43mfmt\u001b[49m\u001b[43m,\u001b[49m\u001b[43m \u001b[49m\u001b[43mexact\u001b[49m\u001b[38;5;241;43m=\u001b[39;49m\u001b[43mexact\u001b[49m\u001b[43m,\u001b[49m\u001b[43m \u001b[49m\u001b[43merrors\u001b[49m\u001b[38;5;241;43m=\u001b[39;49m\u001b[43merrors\u001b[49m\u001b[43m,\u001b[49m\u001b[43m \u001b[49m\u001b[43mutc\u001b[49m\u001b[38;5;241;43m=\u001b[39;49m\u001b[43mutc\u001b[49m\u001b[43m)\u001b[49m\n\u001b[0;32m    468\u001b[0m     \u001b[38;5;28;01mif\u001b[39;00m tz_out \u001b[38;5;129;01mis\u001b[39;00m \u001b[38;5;129;01mnot\u001b[39;00m \u001b[38;5;28;01mNone\u001b[39;00m:\n\u001b[0;32m    469\u001b[0m         unit \u001b[38;5;241m=\u001b[39m np\u001b[38;5;241m.\u001b[39mdatetime_data(result\u001b[38;5;241m.\u001b[39mdtype)[\u001b[38;5;241m0\u001b[39m]\n",
      "File \u001b[1;32mstrptime.pyx:501\u001b[0m, in \u001b[0;36mpandas._libs.tslibs.strptime.array_strptime\u001b[1;34m()\u001b[0m\n",
      "File \u001b[1;32mstrptime.pyx:451\u001b[0m, in \u001b[0;36mpandas._libs.tslibs.strptime.array_strptime\u001b[1;34m()\u001b[0m\n",
      "File \u001b[1;32mstrptime.pyx:587\u001b[0m, in \u001b[0;36mpandas._libs.tslibs.strptime._parse_with_format\u001b[1;34m()\u001b[0m\n",
      "\u001b[1;31mValueError\u001b[0m: unconverted data remains when parsing with format \"%Y-%m-%d %H:%M:%S\": \".289\", at position 3484317. You might want to try:\n    - passing `format` if your strings have a consistent format;\n    - passing `format='ISO8601'` if your strings are all ISO8601 but not necessarily in exactly the same format;\n    - passing `format='mixed'`, and the format will be inferred for each element individually. You might want to use `dayfirst` alongside this."
     ]
    }
   ],
   "source": [
    "combined_df['started_at'] = pd.to_datetime(combined_df['started_at'])\n",
    "combined_df['ended_at'] = pd.to_datetime(combined_df['ended_at'])"
   ]
  },
  {
   "cell_type": "code",
   "execution_count": 18,
   "metadata": {},
   "outputs": [],
   "source": [
    "combined_df['started_at'] = pd.to_datetime(combined_df['started_at'], format='ISO8601', errors='coerce')\n",
    "combined_df['ended_at'] = pd.to_datetime(combined_df['ended_at'], format='ISO8601', errors='coerce')\n"
   ]
  },
  {
   "cell_type": "code",
   "execution_count": 19,
   "metadata": {},
   "outputs": [
    {
     "data": {
      "text/plain": [
       "Timestamp('2023-09-23 00:27:50')"
      ]
     },
     "execution_count": 19,
     "metadata": {},
     "output_type": "execute_result"
    }
   ],
   "source": [
    "combined_df.iloc[0]['started_at']"
   ]
  },
  {
   "cell_type": "code",
   "execution_count": 20,
   "metadata": {},
   "outputs": [],
   "source": [
    "combined_df['ride_length'] = combined_df['ended_at'] - combined_df['started_at']"
   ]
  },
  {
   "cell_type": "code",
   "execution_count": 22,
   "metadata": {},
   "outputs": [
    {
     "data": {
      "text/html": [
       "<div>\n",
       "<style scoped>\n",
       "    .dataframe tbody tr th:only-of-type {\n",
       "        vertical-align: middle;\n",
       "    }\n",
       "\n",
       "    .dataframe tbody tr th {\n",
       "        vertical-align: top;\n",
       "    }\n",
       "\n",
       "    .dataframe thead th {\n",
       "        text-align: right;\n",
       "    }\n",
       "</style>\n",
       "<table border=\"1\" class=\"dataframe\">\n",
       "  <thead>\n",
       "    <tr style=\"text-align: right;\">\n",
       "      <th></th>\n",
       "      <th>ride_id</th>\n",
       "      <th>rideable_type</th>\n",
       "      <th>started_at</th>\n",
       "      <th>ended_at</th>\n",
       "      <th>start_station_name</th>\n",
       "      <th>start_station_id</th>\n",
       "      <th>end_station_name</th>\n",
       "      <th>end_station_id</th>\n",
       "      <th>start_lat</th>\n",
       "      <th>start_lng</th>\n",
       "      <th>end_lat</th>\n",
       "      <th>end_lng</th>\n",
       "      <th>member_casual</th>\n",
       "      <th>ride_length</th>\n",
       "    </tr>\n",
       "  </thead>\n",
       "  <tbody>\n",
       "    <tr>\n",
       "      <th>0</th>\n",
       "      <td>011C1903BF4E2E28</td>\n",
       "      <td>classic_bike</td>\n",
       "      <td>2023-09-23 00:27:50</td>\n",
       "      <td>2023-09-23 00:33:27</td>\n",
       "      <td>Halsted St &amp; Wrightwood Ave</td>\n",
       "      <td>TA1309000061</td>\n",
       "      <td>Sheffield Ave &amp; Wellington Ave</td>\n",
       "      <td>TA1307000052</td>\n",
       "      <td>41.929143</td>\n",
       "      <td>-87.649077</td>\n",
       "      <td>41.936253</td>\n",
       "      <td>-87.652662</td>\n",
       "      <td>member</td>\n",
       "      <td>0 days 00:05:37</td>\n",
       "    </tr>\n",
       "    <tr>\n",
       "      <th>1</th>\n",
       "      <td>87DB80E048A1BF9F</td>\n",
       "      <td>classic_bike</td>\n",
       "      <td>2023-09-02 09:26:43</td>\n",
       "      <td>2023-09-02 09:38:19</td>\n",
       "      <td>Clark St &amp; Drummond Pl</td>\n",
       "      <td>TA1307000142</td>\n",
       "      <td>Racine Ave &amp; Fullerton Ave</td>\n",
       "      <td>TA1306000026</td>\n",
       "      <td>41.931248</td>\n",
       "      <td>-87.644336</td>\n",
       "      <td>41.925566</td>\n",
       "      <td>-87.658416</td>\n",
       "      <td>member</td>\n",
       "      <td>0 days 00:11:36</td>\n",
       "    </tr>\n",
       "    <tr>\n",
       "      <th>2</th>\n",
       "      <td>7C2EB7AF669066E3</td>\n",
       "      <td>electric_bike</td>\n",
       "      <td>2023-09-25 18:30:11</td>\n",
       "      <td>2023-09-25 18:41:39</td>\n",
       "      <td>Financial Pl &amp; Ida B Wells Dr</td>\n",
       "      <td>SL-010</td>\n",
       "      <td>Racine Ave &amp; 15th St</td>\n",
       "      <td>13304</td>\n",
       "      <td>41.875061</td>\n",
       "      <td>-87.633135</td>\n",
       "      <td>41.861267</td>\n",
       "      <td>-87.656625</td>\n",
       "      <td>member</td>\n",
       "      <td>0 days 00:11:28</td>\n",
       "    </tr>\n",
       "    <tr>\n",
       "      <th>3</th>\n",
       "      <td>57D197B010269CE3</td>\n",
       "      <td>classic_bike</td>\n",
       "      <td>2023-09-13 15:30:49</td>\n",
       "      <td>2023-09-13 15:39:18</td>\n",
       "      <td>Clark St &amp; Drummond Pl</td>\n",
       "      <td>TA1307000142</td>\n",
       "      <td>Racine Ave &amp; Belmont Ave</td>\n",
       "      <td>TA1308000019</td>\n",
       "      <td>41.931248</td>\n",
       "      <td>-87.644336</td>\n",
       "      <td>41.939743</td>\n",
       "      <td>-87.658865</td>\n",
       "      <td>member</td>\n",
       "      <td>0 days 00:08:29</td>\n",
       "    </tr>\n",
       "    <tr>\n",
       "      <th>4</th>\n",
       "      <td>8A2CEA7C8C8074D8</td>\n",
       "      <td>classic_bike</td>\n",
       "      <td>2023-09-18 15:58:58</td>\n",
       "      <td>2023-09-18 16:05:04</td>\n",
       "      <td>Halsted St &amp; Wrightwood Ave</td>\n",
       "      <td>TA1309000061</td>\n",
       "      <td>Racine Ave &amp; Fullerton Ave</td>\n",
       "      <td>TA1306000026</td>\n",
       "      <td>41.929143</td>\n",
       "      <td>-87.649077</td>\n",
       "      <td>41.925566</td>\n",
       "      <td>-87.658416</td>\n",
       "      <td>member</td>\n",
       "      <td>0 days 00:06:06</td>\n",
       "    </tr>\n",
       "  </tbody>\n",
       "</table>\n",
       "</div>"
      ],
      "text/plain": [
       "            ride_id  rideable_type          started_at            ended_at  \\\n",
       "0  011C1903BF4E2E28   classic_bike 2023-09-23 00:27:50 2023-09-23 00:33:27   \n",
       "1  87DB80E048A1BF9F   classic_bike 2023-09-02 09:26:43 2023-09-02 09:38:19   \n",
       "2  7C2EB7AF669066E3  electric_bike 2023-09-25 18:30:11 2023-09-25 18:41:39   \n",
       "3  57D197B010269CE3   classic_bike 2023-09-13 15:30:49 2023-09-13 15:39:18   \n",
       "4  8A2CEA7C8C8074D8   classic_bike 2023-09-18 15:58:58 2023-09-18 16:05:04   \n",
       "\n",
       "              start_station_name start_station_id  \\\n",
       "0    Halsted St & Wrightwood Ave     TA1309000061   \n",
       "1         Clark St & Drummond Pl     TA1307000142   \n",
       "2  Financial Pl & Ida B Wells Dr           SL-010   \n",
       "3         Clark St & Drummond Pl     TA1307000142   \n",
       "4    Halsted St & Wrightwood Ave     TA1309000061   \n",
       "\n",
       "                 end_station_name end_station_id  start_lat  start_lng  \\\n",
       "0  Sheffield Ave & Wellington Ave   TA1307000052  41.929143 -87.649077   \n",
       "1      Racine Ave & Fullerton Ave   TA1306000026  41.931248 -87.644336   \n",
       "2            Racine Ave & 15th St          13304  41.875061 -87.633135   \n",
       "3        Racine Ave & Belmont Ave   TA1308000019  41.931248 -87.644336   \n",
       "4      Racine Ave & Fullerton Ave   TA1306000026  41.929143 -87.649077   \n",
       "\n",
       "     end_lat    end_lng member_casual     ride_length  \n",
       "0  41.936253 -87.652662        member 0 days 00:05:37  \n",
       "1  41.925566 -87.658416        member 0 days 00:11:36  \n",
       "2  41.861267 -87.656625        member 0 days 00:11:28  \n",
       "3  41.939743 -87.658865        member 0 days 00:08:29  \n",
       "4  41.925566 -87.658416        member 0 days 00:06:06  "
      ]
     },
     "execution_count": 22,
     "metadata": {},
     "output_type": "execute_result"
    }
   ],
   "source": [
    "combined_df.head()"
   ]
  },
  {
   "cell_type": "code",
   "execution_count": 23,
   "metadata": {
    "vscode": {
     "languageId": "ruby"
    }
   },
   "outputs": [],
   "source": [
    "columns_to_drop = ['start_lat', 'end_lat', 'start_lng', 'end_lng', 'end_lat', 'end_lng']\n",
    "combined_df.drop(columns=columns_to_drop, inplace=True)"
   ]
  },
  {
   "cell_type": "code",
   "execution_count": 24,
   "metadata": {
    "vscode": {
     "languageId": "ruby"
    }
   },
   "outputs": [
    {
     "data": {
      "text/html": [
       "<div>\n",
       "<style scoped>\n",
       "    .dataframe tbody tr th:only-of-type {\n",
       "        vertical-align: middle;\n",
       "    }\n",
       "\n",
       "    .dataframe tbody tr th {\n",
       "        vertical-align: top;\n",
       "    }\n",
       "\n",
       "    .dataframe thead th {\n",
       "        text-align: right;\n",
       "    }\n",
       "</style>\n",
       "<table border=\"1\" class=\"dataframe\">\n",
       "  <thead>\n",
       "    <tr style=\"text-align: right;\">\n",
       "      <th></th>\n",
       "      <th>ride_id</th>\n",
       "      <th>rideable_type</th>\n",
       "      <th>started_at</th>\n",
       "      <th>ended_at</th>\n",
       "      <th>start_station_name</th>\n",
       "      <th>start_station_id</th>\n",
       "      <th>end_station_name</th>\n",
       "      <th>end_station_id</th>\n",
       "      <th>member_casual</th>\n",
       "      <th>ride_length</th>\n",
       "    </tr>\n",
       "  </thead>\n",
       "  <tbody>\n",
       "    <tr>\n",
       "      <th>0</th>\n",
       "      <td>011C1903BF4E2E28</td>\n",
       "      <td>classic_bike</td>\n",
       "      <td>2023-09-23 00:27:50</td>\n",
       "      <td>2023-09-23 00:33:27</td>\n",
       "      <td>Halsted St &amp; Wrightwood Ave</td>\n",
       "      <td>TA1309000061</td>\n",
       "      <td>Sheffield Ave &amp; Wellington Ave</td>\n",
       "      <td>TA1307000052</td>\n",
       "      <td>member</td>\n",
       "      <td>0 days 00:05:37</td>\n",
       "    </tr>\n",
       "    <tr>\n",
       "      <th>1</th>\n",
       "      <td>87DB80E048A1BF9F</td>\n",
       "      <td>classic_bike</td>\n",
       "      <td>2023-09-02 09:26:43</td>\n",
       "      <td>2023-09-02 09:38:19</td>\n",
       "      <td>Clark St &amp; Drummond Pl</td>\n",
       "      <td>TA1307000142</td>\n",
       "      <td>Racine Ave &amp; Fullerton Ave</td>\n",
       "      <td>TA1306000026</td>\n",
       "      <td>member</td>\n",
       "      <td>0 days 00:11:36</td>\n",
       "    </tr>\n",
       "    <tr>\n",
       "      <th>2</th>\n",
       "      <td>7C2EB7AF669066E3</td>\n",
       "      <td>electric_bike</td>\n",
       "      <td>2023-09-25 18:30:11</td>\n",
       "      <td>2023-09-25 18:41:39</td>\n",
       "      <td>Financial Pl &amp; Ida B Wells Dr</td>\n",
       "      <td>SL-010</td>\n",
       "      <td>Racine Ave &amp; 15th St</td>\n",
       "      <td>13304</td>\n",
       "      <td>member</td>\n",
       "      <td>0 days 00:11:28</td>\n",
       "    </tr>\n",
       "    <tr>\n",
       "      <th>3</th>\n",
       "      <td>57D197B010269CE3</td>\n",
       "      <td>classic_bike</td>\n",
       "      <td>2023-09-13 15:30:49</td>\n",
       "      <td>2023-09-13 15:39:18</td>\n",
       "      <td>Clark St &amp; Drummond Pl</td>\n",
       "      <td>TA1307000142</td>\n",
       "      <td>Racine Ave &amp; Belmont Ave</td>\n",
       "      <td>TA1308000019</td>\n",
       "      <td>member</td>\n",
       "      <td>0 days 00:08:29</td>\n",
       "    </tr>\n",
       "    <tr>\n",
       "      <th>4</th>\n",
       "      <td>8A2CEA7C8C8074D8</td>\n",
       "      <td>classic_bike</td>\n",
       "      <td>2023-09-18 15:58:58</td>\n",
       "      <td>2023-09-18 16:05:04</td>\n",
       "      <td>Halsted St &amp; Wrightwood Ave</td>\n",
       "      <td>TA1309000061</td>\n",
       "      <td>Racine Ave &amp; Fullerton Ave</td>\n",
       "      <td>TA1306000026</td>\n",
       "      <td>member</td>\n",
       "      <td>0 days 00:06:06</td>\n",
       "    </tr>\n",
       "  </tbody>\n",
       "</table>\n",
       "</div>"
      ],
      "text/plain": [
       "            ride_id  rideable_type          started_at            ended_at  \\\n",
       "0  011C1903BF4E2E28   classic_bike 2023-09-23 00:27:50 2023-09-23 00:33:27   \n",
       "1  87DB80E048A1BF9F   classic_bike 2023-09-02 09:26:43 2023-09-02 09:38:19   \n",
       "2  7C2EB7AF669066E3  electric_bike 2023-09-25 18:30:11 2023-09-25 18:41:39   \n",
       "3  57D197B010269CE3   classic_bike 2023-09-13 15:30:49 2023-09-13 15:39:18   \n",
       "4  8A2CEA7C8C8074D8   classic_bike 2023-09-18 15:58:58 2023-09-18 16:05:04   \n",
       "\n",
       "              start_station_name start_station_id  \\\n",
       "0    Halsted St & Wrightwood Ave     TA1309000061   \n",
       "1         Clark St & Drummond Pl     TA1307000142   \n",
       "2  Financial Pl & Ida B Wells Dr           SL-010   \n",
       "3         Clark St & Drummond Pl     TA1307000142   \n",
       "4    Halsted St & Wrightwood Ave     TA1309000061   \n",
       "\n",
       "                 end_station_name end_station_id member_casual     ride_length  \n",
       "0  Sheffield Ave & Wellington Ave   TA1307000052        member 0 days 00:05:37  \n",
       "1      Racine Ave & Fullerton Ave   TA1306000026        member 0 days 00:11:36  \n",
       "2            Racine Ave & 15th St          13304        member 0 days 00:11:28  \n",
       "3        Racine Ave & Belmont Ave   TA1308000019        member 0 days 00:08:29  \n",
       "4      Racine Ave & Fullerton Ave   TA1306000026        member 0 days 00:06:06  "
      ]
     },
     "execution_count": 24,
     "metadata": {},
     "output_type": "execute_result"
    }
   ],
   "source": [
    "combined_df.head()"
   ]
  },
  {
   "cell_type": "code",
   "execution_count": 25,
   "metadata": {
    "vscode": {
     "languageId": "ruby"
    }
   },
   "outputs": [],
   "source": [
    "combined_df['day_of_week'] = combined_df['started_at'].dt.weekday.apply(lambda x: (x + 2) % 7 + 1)"
   ]
  },
  {
   "cell_type": "code",
   "execution_count": 26,
   "metadata": {
    "vscode": {
     "languageId": "ruby"
    }
   },
   "outputs": [
    {
     "data": {
      "text/html": [
       "<div>\n",
       "<style scoped>\n",
       "    .dataframe tbody tr th:only-of-type {\n",
       "        vertical-align: middle;\n",
       "    }\n",
       "\n",
       "    .dataframe tbody tr th {\n",
       "        vertical-align: top;\n",
       "    }\n",
       "\n",
       "    .dataframe thead th {\n",
       "        text-align: right;\n",
       "    }\n",
       "</style>\n",
       "<table border=\"1\" class=\"dataframe\">\n",
       "  <thead>\n",
       "    <tr style=\"text-align: right;\">\n",
       "      <th></th>\n",
       "      <th>ride_id</th>\n",
       "      <th>rideable_type</th>\n",
       "      <th>started_at</th>\n",
       "      <th>ended_at</th>\n",
       "      <th>start_station_name</th>\n",
       "      <th>start_station_id</th>\n",
       "      <th>end_station_name</th>\n",
       "      <th>end_station_id</th>\n",
       "      <th>member_casual</th>\n",
       "      <th>ride_length</th>\n",
       "      <th>day_of_week</th>\n",
       "    </tr>\n",
       "  </thead>\n",
       "  <tbody>\n",
       "    <tr>\n",
       "      <th>0</th>\n",
       "      <td>011C1903BF4E2E28</td>\n",
       "      <td>classic_bike</td>\n",
       "      <td>2023-09-23 00:27:50</td>\n",
       "      <td>2023-09-23 00:33:27</td>\n",
       "      <td>Halsted St &amp; Wrightwood Ave</td>\n",
       "      <td>TA1309000061</td>\n",
       "      <td>Sheffield Ave &amp; Wellington Ave</td>\n",
       "      <td>TA1307000052</td>\n",
       "      <td>member</td>\n",
       "      <td>0 days 00:05:37</td>\n",
       "      <td>1</td>\n",
       "    </tr>\n",
       "    <tr>\n",
       "      <th>1</th>\n",
       "      <td>87DB80E048A1BF9F</td>\n",
       "      <td>classic_bike</td>\n",
       "      <td>2023-09-02 09:26:43</td>\n",
       "      <td>2023-09-02 09:38:19</td>\n",
       "      <td>Clark St &amp; Drummond Pl</td>\n",
       "      <td>TA1307000142</td>\n",
       "      <td>Racine Ave &amp; Fullerton Ave</td>\n",
       "      <td>TA1306000026</td>\n",
       "      <td>member</td>\n",
       "      <td>0 days 00:11:36</td>\n",
       "      <td>1</td>\n",
       "    </tr>\n",
       "    <tr>\n",
       "      <th>2</th>\n",
       "      <td>7C2EB7AF669066E3</td>\n",
       "      <td>electric_bike</td>\n",
       "      <td>2023-09-25 18:30:11</td>\n",
       "      <td>2023-09-25 18:41:39</td>\n",
       "      <td>Financial Pl &amp; Ida B Wells Dr</td>\n",
       "      <td>SL-010</td>\n",
       "      <td>Racine Ave &amp; 15th St</td>\n",
       "      <td>13304</td>\n",
       "      <td>member</td>\n",
       "      <td>0 days 00:11:28</td>\n",
       "      <td>3</td>\n",
       "    </tr>\n",
       "    <tr>\n",
       "      <th>3</th>\n",
       "      <td>57D197B010269CE3</td>\n",
       "      <td>classic_bike</td>\n",
       "      <td>2023-09-13 15:30:49</td>\n",
       "      <td>2023-09-13 15:39:18</td>\n",
       "      <td>Clark St &amp; Drummond Pl</td>\n",
       "      <td>TA1307000142</td>\n",
       "      <td>Racine Ave &amp; Belmont Ave</td>\n",
       "      <td>TA1308000019</td>\n",
       "      <td>member</td>\n",
       "      <td>0 days 00:08:29</td>\n",
       "      <td>5</td>\n",
       "    </tr>\n",
       "    <tr>\n",
       "      <th>4</th>\n",
       "      <td>8A2CEA7C8C8074D8</td>\n",
       "      <td>classic_bike</td>\n",
       "      <td>2023-09-18 15:58:58</td>\n",
       "      <td>2023-09-18 16:05:04</td>\n",
       "      <td>Halsted St &amp; Wrightwood Ave</td>\n",
       "      <td>TA1309000061</td>\n",
       "      <td>Racine Ave &amp; Fullerton Ave</td>\n",
       "      <td>TA1306000026</td>\n",
       "      <td>member</td>\n",
       "      <td>0 days 00:06:06</td>\n",
       "      <td>3</td>\n",
       "    </tr>\n",
       "  </tbody>\n",
       "</table>\n",
       "</div>"
      ],
      "text/plain": [
       "            ride_id  rideable_type          started_at            ended_at  \\\n",
       "0  011C1903BF4E2E28   classic_bike 2023-09-23 00:27:50 2023-09-23 00:33:27   \n",
       "1  87DB80E048A1BF9F   classic_bike 2023-09-02 09:26:43 2023-09-02 09:38:19   \n",
       "2  7C2EB7AF669066E3  electric_bike 2023-09-25 18:30:11 2023-09-25 18:41:39   \n",
       "3  57D197B010269CE3   classic_bike 2023-09-13 15:30:49 2023-09-13 15:39:18   \n",
       "4  8A2CEA7C8C8074D8   classic_bike 2023-09-18 15:58:58 2023-09-18 16:05:04   \n",
       "\n",
       "              start_station_name start_station_id  \\\n",
       "0    Halsted St & Wrightwood Ave     TA1309000061   \n",
       "1         Clark St & Drummond Pl     TA1307000142   \n",
       "2  Financial Pl & Ida B Wells Dr           SL-010   \n",
       "3         Clark St & Drummond Pl     TA1307000142   \n",
       "4    Halsted St & Wrightwood Ave     TA1309000061   \n",
       "\n",
       "                 end_station_name end_station_id member_casual  \\\n",
       "0  Sheffield Ave & Wellington Ave   TA1307000052        member   \n",
       "1      Racine Ave & Fullerton Ave   TA1306000026        member   \n",
       "2            Racine Ave & 15th St          13304        member   \n",
       "3        Racine Ave & Belmont Ave   TA1308000019        member   \n",
       "4      Racine Ave & Fullerton Ave   TA1306000026        member   \n",
       "\n",
       "      ride_length  day_of_week  \n",
       "0 0 days 00:05:37            1  \n",
       "1 0 days 00:11:36            1  \n",
       "2 0 days 00:11:28            3  \n",
       "3 0 days 00:08:29            5  \n",
       "4 0 days 00:06:06            3  "
      ]
     },
     "execution_count": 26,
     "metadata": {},
     "output_type": "execute_result"
    }
   ],
   "source": [
    "combined_df.head()"
   ]
  },
  {
   "cell_type": "code",
   "execution_count": 27,
   "metadata": {
    "vscode": {
     "languageId": "ruby"
    }
   },
   "outputs": [],
   "source": [
    "combined_df.to_csv('D:/DATA_ANALYSIS/Case_1/12_months_city_bike.csv', index=False)"
   ]
  },
  {
   "cell_type": "code",
   "execution_count": null,
   "metadata": {
    "vscode": {
     "languageId": "ruby"
    }
   },
   "outputs": [],
   "source": []
  }
 ],
 "metadata": {
  "kernelspec": {
   "display_name": "Python 3",
   "language": "python",
   "name": "python3"
  },
  "language_info": {
   "codemirror_mode": {
    "name": "ipython",
    "version": 3
   },
   "file_extension": ".py",
   "mimetype": "text/x-python",
   "name": "python",
   "nbconvert_exporter": "python",
   "pygments_lexer": "ipython3",
   "version": "3.10.11"
  }
 },
 "nbformat": 4,
 "nbformat_minor": 2
}
